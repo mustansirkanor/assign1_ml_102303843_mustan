{
 "cells": [
  {
   "cell_type": "code",
   "execution_count": null,
   "id": "135ad996",
   "metadata": {},
   "outputs": [],
   "source": [
    "url = \"https://www.imdb.com/chart/top/\"\n",
    "driver = webdriver.Chrome()\n",
    "driver.get(url)\n",
    "time.sleep(3)\n",
    "\n",
    "movies = []\n",
    "rows = driver.find_elements(By.XPATH, '//tbody[@class=\"lister-list\"]/tr')\n",
    "\n",
    "for row in rows:\n",
    "    rank = row.find_element(By.XPATH, './/td[@class=\"titleColumn\"]').text.split('.')[0]\n",
    "    title = row.find_element(By.XPATH, './/td[@class=\"titleColumn\"]/a').text\n",
    "    year = row.find_element(By.XPATH, './/td[@class=\"titleColumn\"]/span').text.strip(\"()\")\n",
    "    rating = row.find_element(By.XPATH, './/td[@class=\"ratingColumn imdbRating\"]/strong').text\n",
    "    movies.append([rank, title, year, rating])\n",
    "\n",
    "driver.quit()\n",
    "\n",
    "df_imdb = pd.DataFrame(movies, columns=['Rank', 'Title', 'Year', 'Rating'])\n",
    "df_imdb.to_csv(\"imdb_top250.csv\", index=False)\n",
    "print(\"imdb_top250.csv saved\")\n",
    "\n",
    "\n",
    "\n",
    "# q3\n",
    "\n",
    "url = \"https://www.timeanddate.com/weather/\"\n",
    "response = requests.get(url)\n",
    "soup = BeautifulSoup(response.text, \"lxml\")\n",
    "\n",
    "cities_data = []\n",
    "table = soup.find(\"table\", class_=\"zebra\")\n",
    "\n",
    "if table:\n",
    "    for row in table.find_all(\"tr\")[1:]:\n",
    "        cols = row.find_all(\"td\")\n",
    "        if len(cols) >= 3:\n",
    "            city = cols[0].text.strip()\n",
    "            temp = cols[1].text.strip()\n",
    "            condition = cols[2].text.strip()\n",
    "            cities_data.append([city, temp, condition])\n",
    "\n",
    "    df_weather = pd.DataFrame(cities_data, columns=[\"City\", \"Temperature\", \"Condition\"])\n",
    "    df_weather.to_csv(\"weather.csv\", index=False)\n",
    "    print(\"weather.csv saved with\", len(df_weather), \"rows\")\n",
    "else:\n",
    "    print(\"Weather table not found! Verify the table structure and class name.\")"
   ]
  },
  {
   "cell_type": "code",
   "execution_count": null,
   "id": "bba18702",
   "metadata": {},
   "outputs": [],
   "source": []
  }
 ],
 "metadata": {
  "language_info": {
   "name": "python"
  }
 },
 "nbformat": 4,
 "nbformat_minor": 5
}
