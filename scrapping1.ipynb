{
  "nbformat": 4,
  "nbformat_minor": 0,
  "metadata": {
    "colab": {
      "provenance": []
    },
    "kernelspec": {
      "name": "python3",
      "display_name": "Python 3"
    },
    "language_info": {
      "name": "python"
    }
  },
  "cells": [
    {
      "cell_type": "code",
      "execution_count": null,
      "metadata": {
        "id": "cF09Y4DGzThY"
      },
      "outputs": [],
      "source": [
        "\n",
        "import requests\n",
        "from bs4 import BeautifulSoup\n",
        "import pandas as pd"
      ]
    },
    {
      "cell_type": "code",
      "source": [
        "Base_url = \"https://books.toscrape.com/\"\n",
        "titles= []\n",
        "prices=[]\n",
        "availabilities = []\n",
        "ratings = []\n",
        "\n",
        "for page in range(1,51):\n",
        "  url=Base_url.format(page)\n",
        "  response=requests.get(url)\n",
        "  soup=BeautifulSoup(response.text,\"html.parser\")\n",
        "  books=soup.find_all(\"article\",class_=\"product_pod\")\n",
        "  for book in books:\n",
        "    title=book.h3.a[\"title\"]\n",
        "    titles.append(title)\n",
        "    price=book.find(\"p\",class_=\"price_color\").text\n",
        "    prices.append(price)\n",
        "    availability=book.find(\"p\",class_=\"instock availability\").text.strip()\n",
        "    availabilities.append(availability)\n",
        "    rating=book.find(\"p\",class_=\"star-rating\")[\"class\"][1]\n",
        "    ratings.append(rating)\n",
        "print(\"data scrapped sucessfully!\")\n",
        "df = pd.DataFrame({\n",
        "    \"Title\": titles,\n",
        "    \"Price\": prices,\n",
        "    \"Availability\": availabilities,\n",
        "    \"Star Rating\": ratings\n",
        "})\n",
        "df.to_csv(\"books.csv\", index=False)\n",
        "print(\"data saved to books.csv\")"
      ],
      "metadata": {
        "colab": {
          "base_uri": "https://localhost:8080/"
        },
        "id": "Nazi732y0AA_",
        "outputId": "f94971b5-c65a-428a-ec94-cab21aeec0cb"
      },
      "execution_count": null,
      "outputs": [
        {
          "output_type": "stream",
          "name": "stdout",
          "text": [
            "data scrapped sucessfully!\n",
            "data saved to books.csv\n"
          ]
        }
      ]
    },
    {
      "cell_type": "markdown",
      "source": [],
      "metadata": {
        "id": "_M3YnROB4oGh"
      }
    }
  ]
}